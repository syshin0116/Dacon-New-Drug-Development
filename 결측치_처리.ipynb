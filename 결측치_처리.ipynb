{
 "cells": [
  {
   "cell_type": "markdown",
   "id": "16d4b660-159a-4c4b-a751-87309174ba7a",
   "metadata": {},
   "source": [
    "## 결측치 처리: Random Forest, Linear Regression"
   ]
  },
  {
   "cell_type": "code",
   "execution_count": 4,
   "id": "5d5f8986-a6d2-4768-aff5-f4a531c7a860",
   "metadata": {},
   "outputs": [
    {
     "ename": "ImportError",
     "evalue": "cannot import name 'RandomForestRegressor' from 'sklearn.model_selection' (/Users/syshin/miniforge3/envs/tensorflow/lib/python3.9/site-packages/sklearn/model_selection/__init__.py)",
     "output_type": "error",
     "traceback": [
      "\u001b[0;31m---------------------------------------------------------------------------\u001b[0m",
      "\u001b[0;31mImportError\u001b[0m                               Traceback (most recent call last)",
      "Cell \u001b[0;32mIn[4], line 4\u001b[0m\n\u001b[1;32m      2\u001b[0m \u001b[38;5;28;01mimport\u001b[39;00m \u001b[38;5;21;01mnumpy\u001b[39;00m \u001b[38;5;28;01mas\u001b[39;00m \u001b[38;5;21;01mnp\u001b[39;00m\n\u001b[1;32m      3\u001b[0m \u001b[38;5;28;01mfrom\u001b[39;00m \u001b[38;5;21;01msklearn\u001b[39;00m\u001b[38;5;21;01m.\u001b[39;00m\u001b[38;5;21;01mmodel_selection\u001b[39;00m \u001b[38;5;28;01mimport\u001b[39;00m cross_val_score\n\u001b[0;32m----> 4\u001b[0m \u001b[38;5;28;01mfrom\u001b[39;00m \u001b[38;5;21;01msklearn\u001b[39;00m\u001b[38;5;21;01m.\u001b[39;00m\u001b[38;5;21;01mmodel_selection\u001b[39;00m \u001b[38;5;28;01mimport\u001b[39;00m RandomForestRegressor\n\u001b[1;32m      5\u001b[0m \u001b[38;5;28;01mfrom\u001b[39;00m \u001b[38;5;21;01msklearn\u001b[39;00m\u001b[38;5;21;01m.\u001b[39;00m\u001b[38;5;21;01mmodel_selection\u001b[39;00m \u001b[38;5;28;01mimport\u001b[39;00m LinearRegression\n\u001b[1;32m      7\u001b[0m \u001b[38;5;66;03m# 데이터 로드\u001b[39;00m\n",
      "\u001b[0;31mImportError\u001b[0m: cannot import name 'RandomForestRegressor' from 'sklearn.model_selection' (/Users/syshin/miniforge3/envs/tensorflow/lib/python3.9/site-packages/sklearn/model_selection/__init__.py)"
     ]
    }
   ],
   "source": [
    "import pandas as pd\n",
    "import numpy as np\n",
    "from sklearn.model_selection import cross_val_score\n",
    "from sklearn.ensemble import RandomForestRegressor\n",
    "from sklearn.metrics import mean_squared_error\n",
    "\n",
    "from sklearn.model_selection import train_test_split\n",
    "\n",
    "\n",
    "# 데이터 로드\n",
    "train_data = pd.read_csv('train.csv')\n",
    "\n",
    "# AlogP 결측치가 없는 데이터 선택\n",
    "data_no_missing = train_data[train_data['AlogP'].notnull()]\n",
    "\n",
    "# 특성과 타겟 변수 분리\n",
    "X_no_missing = data_no_missing.drop(columns=['id', 'SMILES', 'MLM', 'HLM', 'AlogP'])\n",
    "y_no_missing = data_no_missing['AlogP']\n",
    "\n",
    "# 모델 초기화\n",
    "rf_regressor = RandomForestRegressor(n_estimators=100, random_state=42)\n",
    "linear_regressor = LinearRegression()\n",
    "\n",
    "# 교차 검증을 사용하여 RMSE 계산 (Random Forest)\n",
    "rf_scores = -cross_val_score(rf_regressor, X_no_missing, y_no_missing, cv=5, scoring='neg_mean_squared_error', n_jobs=-1)\n",
    "rf_rmse_scores = np.sqrt(rf_scores)\n",
    "\n",
    "# 교차 검증을 사용하여 RMSE 계산 (Linear Regression)\n",
    "linear_scores = -cross_val_score(linear_regressor, X_no_missing, y_no_missing, cv=5, scoring='neg_mean_squared_error', n_jobs=-1)\n",
    "linear_rmse_scores = np.sqrt(linear_scores)\n",
    "\n",
    "rf_rmse_scores.mean(), linear_rmse_scores.mean()"
   ]
  },
  {
   "cell_type": "code",
   "execution_count": 5,
   "id": "98eb4ecb-fba0-4e47-bcca-2a1c53f6675d",
   "metadata": {},
   "outputs": [
    {
     "ename": "NameError",
     "evalue": "name 'rf_regressor' is not defined",
     "output_type": "error",
     "traceback": [
      "\u001b[0;31m---------------------------------------------------------------------------\u001b[0m",
      "\u001b[0;31mNameError\u001b[0m                                 Traceback (most recent call last)",
      "Cell \u001b[0;32mIn[5], line 2\u001b[0m\n\u001b[1;32m      1\u001b[0m \u001b[38;5;66;03m# 모델 학습\u001b[39;00m\n\u001b[0;32m----> 2\u001b[0m \u001b[43mrf_regressor\u001b[49m\u001b[38;5;241m.\u001b[39mfit(X_no_missing, y_no_missing)\n\u001b[1;32m      3\u001b[0m linear_regressor\u001b[38;5;241m.\u001b[39mfit(X_no_missing, y_no_missing)\n\u001b[1;32m      5\u001b[0m \u001b[38;5;66;03m# 결측치 있는 데이터 선택\u001b[39;00m\n",
      "\u001b[0;31mNameError\u001b[0m: name 'rf_regressor' is not defined"
     ]
    }
   ],
   "source": [
    "# 모델 학습\n",
    "rf_regressor.fit(X_no_missing, y_no_missing)\n",
    "linear_regressor.fit(X_no_missing, y_no_missing)\n",
    "\n",
    "# 결측치 있는 데이터 선택\n",
    "data_missing = train_data[train_data['AlogP'].isnull()]\n",
    "X_missing = data_missing.drop(columns=['id', 'SMILES', 'MLM', 'HLM', 'AlogP'])\n",
    "\n",
    "# 결측치 예측\n",
    "predicted_AlogP_rf = rf_regressor.predict(X_missing)\n",
    "predicted_AlogP_linear = linear_regressor.predict(X_missing)\n",
    "\n",
    "# 예측된 값을 원래 데이터의 결측치 부분에 대체\n",
    "train_data_rf_filled = train_data.copy()\n",
    "train_data_rf_filled.loc[train_data['AlogP'].isnull(), 'AlogP'] = predicted_AlogP_rf\n",
    "\n",
    "train_data_linear_filled = train_data.copy()\n",
    "train_data_linear_filled.loc[train_data['AlogP'].isnull(), 'AlogP'] = predicted_AlogP_linear"
   ]
  },
  {
   "cell_type": "code",
   "execution_count": 6,
   "id": "fccb8c51-cbf7-4f92-8785-374796d2a662",
   "metadata": {},
   "outputs": [
    {
     "ename": "NameError",
     "evalue": "name 'train_data_rf_filled' is not defined",
     "output_type": "error",
     "traceback": [
      "\u001b[0;31m---------------------------------------------------------------------------\u001b[0m",
      "\u001b[0;31mNameError\u001b[0m                                 Traceback (most recent call last)",
      "Cell \u001b[0;32mIn[6], line 1\u001b[0m\n\u001b[0;32m----> 1\u001b[0m \u001b[43mtrain_data_rf_filled\u001b[49m\u001b[38;5;241m.\u001b[39mto_csv(\u001b[38;5;124m'\u001b[39m\u001b[38;5;124mtrain_rf.csv\u001b[39m\u001b[38;5;124m'\u001b[39m, index\u001b[38;5;241m=\u001b[39m\u001b[38;5;28;01mFalse\u001b[39;00m)\n\u001b[1;32m      2\u001b[0m train_data_linear_filled\u001b[38;5;241m.\u001b[39mto_csv(\u001b[38;5;124m'\u001b[39m\u001b[38;5;124mtrain_linear.csv\u001b[39m\u001b[38;5;124m'\u001b[39m, index\u001b[38;5;241m=\u001b[39m\u001b[38;5;28;01mFalse\u001b[39;00m)\n",
      "\u001b[0;31mNameError\u001b[0m: name 'train_data_rf_filled' is not defined"
     ]
    }
   ],
   "source": [
    "train_data_rf_filled.to_csv('train_rf.csv', index=False)\n",
    "train_data_linear_filled.to_csv('train_linear.csv', index=False)"
   ]
  },
  {
   "cell_type": "code",
   "execution_count": null,
   "id": "454f4612-ca56-48e9-8103-1cc9d9b08651",
   "metadata": {},
   "outputs": [],
   "source": [
    "# test_data 로드\n",
    "test_data = pd.read_csv('test.csv')\n",
    "\n",
    "# 결측치 있는 데이터 선택\n",
    "test_data_missing = test_data[test_data['AlogP'].isnull()]\n",
    "X_test_missing = test_data_missing.drop(columns=['id', 'SMILES', 'AlogP'])\n",
    "\n",
    "# 결측치 예측\n",
    "predicted_AlogP_test_rf = rf_regressor.predict(X_test_missing)\n",
    "predicted_AlogP_test_linear = linear_regressor.predict(X_test_missing)\n",
    "\n",
    "# 예측된 값을 원래 데이터의 결측치 부분에 대체\n",
    "test_data_rf_filled = test_data.copy()\n",
    "test_data_rf_filled.loc[test_data['AlogP'].isnull(), 'AlogP'] = predicted_AlogP_test_rf\n",
    "\n",
    "test_data_linear_filled = test_data.copy()\n",
    "test_data_linear_filled.loc[test_data['AlogP'].isnull(), 'AlogP'] = predicted_AlogP_test_linear\n",
    "\n",
    "test_data_rf_filled.head(), test_data_linear_filled.head()"
   ]
  },
  {
   "cell_type": "code",
   "execution_count": null,
   "id": "84b940af-d51c-4a27-93a3-e6743a1bc45e",
   "metadata": {},
   "outputs": [],
   "source": [
    "test_data_rf_filled.to_csv('testn_rf.csv', index=False)\n",
    "test_data_linear_filled.to_csv('test_linear.csv', index=False)"
   ]
  }
 ],
 "metadata": {
  "kernelspec": {
   "display_name": "Python 3.9 (tensorflow)",
   "language": "python",
   "name": "tensorflow"
  },
  "language_info": {
   "codemirror_mode": {
    "name": "ipython",
    "version": 3
   },
   "file_extension": ".py",
   "mimetype": "text/x-python",
   "name": "python",
   "nbconvert_exporter": "python",
   "pygments_lexer": "ipython3",
   "version": "3.9.16"
  }
 },
 "nbformat": 4,
 "nbformat_minor": 5
}
