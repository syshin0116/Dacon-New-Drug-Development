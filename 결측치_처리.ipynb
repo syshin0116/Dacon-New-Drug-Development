{
 "cells": [
  {
   "cell_type": "markdown",
   "id": "16d4b660-159a-4c4b-a751-87309174ba7a",
   "metadata": {},
   "source": [
    "## 결측치 처리: Random Forest, Linear Regression"
   ]
  },
  {
   "cell_type": "code",
   "execution_count": 1,
   "id": "5d5f8986-a6d2-4768-aff5-f4a531c7a860",
   "metadata": {},
   "outputs": [
    {
     "data": {
      "text/plain": [
       "(0.45651716642254064, 0.44337098782625894)"
      ]
     },
     "execution_count": 1,
     "metadata": {},
     "output_type": "execute_result"
    }
   ],
   "source": [
    "import pandas as pd\n",
    "import numpy as np\n",
    "from sklearn.model_selection import cross_val_score\n",
    "from sklearn.ensemble import RandomForestRegressor\n",
    "from sklearn.metrics import mean_squared_error\n",
    "from sklearn.linear_model import LinearRegression\n",
    "from sklearn.model_selection import train_test_split\n",
    "\n",
    "\n",
    "# 데이터 로드\n",
    "train_data = pd.read_csv('train.csv')\n",
    "\n",
    "# AlogP 결측치가 없는 데이터 선택\n",
    "data_no_missing = train_data[train_data['AlogP'].notnull()]\n",
    "\n",
    "# 특성과 타겟 변수 분리\n",
    "X_no_missing = data_no_missing.drop(columns=['id', 'SMILES', 'MLM', 'HLM', 'AlogP'])\n",
    "y_no_missing = data_no_missing['AlogP']\n",
    "\n",
    "# 모델 초기화\n",
    "rf_regressor = RandomForestRegressor(n_estimators=100, random_state=42)\n",
    "linear_regressor = LinearRegression()\n",
    "\n",
    "# 교차 검증을 사용하여 RMSE 계산 (Random Forest)\n",
    "rf_scores = -cross_val_score(rf_regressor, X_no_missing, y_no_missing, cv=5, scoring='neg_mean_squared_error', n_jobs=-1)\n",
    "rf_rmse_scores = np.sqrt(rf_scores)\n",
    "\n",
    "# 교차 검증을 사용하여 RMSE 계산 (Linear Regression)\n",
    "linear_scores = -cross_val_score(linear_regressor, X_no_missing, y_no_missing, cv=5, scoring='neg_mean_squared_error', n_jobs=-1)\n",
    "linear_rmse_scores = np.sqrt(linear_scores)\n",
    "\n",
    "rf_rmse_scores.mean(), linear_rmse_scores.mean()"
   ]
  },
  {
   "cell_type": "code",
   "execution_count": 5,
   "id": "7f895a9f-dc59-44a1-ab5b-abe0fb9835a8",
   "metadata": {},
   "outputs": [
    {
     "data": {
      "text/html": [
       "<div>\n",
       "<style scoped>\n",
       "    .dataframe tbody tr th:only-of-type {\n",
       "        vertical-align: middle;\n",
       "    }\n",
       "\n",
       "    .dataframe tbody tr th {\n",
       "        vertical-align: top;\n",
       "    }\n",
       "\n",
       "    .dataframe thead th {\n",
       "        text-align: right;\n",
       "    }\n",
       "</style>\n",
       "<table border=\"1\" class=\"dataframe\">\n",
       "  <thead>\n",
       "    <tr style=\"text-align: right;\">\n",
       "      <th></th>\n",
       "      <th>id</th>\n",
       "      <th>SMILES</th>\n",
       "      <th>MLM</th>\n",
       "      <th>HLM</th>\n",
       "      <th>AlogP</th>\n",
       "      <th>Molecular_Weight</th>\n",
       "      <th>Num_H_Acceptors</th>\n",
       "      <th>Num_H_Donors</th>\n",
       "      <th>Num_RotatableBonds</th>\n",
       "      <th>LogD</th>\n",
       "      <th>Molecular_PolarSurfaceArea</th>\n",
       "    </tr>\n",
       "  </thead>\n",
       "  <tbody>\n",
       "    <tr>\n",
       "      <th>2796</th>\n",
       "      <td>TRAIN_2796</td>\n",
       "      <td>[H][C@]1(CC[C@@]2([H])[C@@H](C)C=CC3=C[C@H](C)...</td>\n",
       "      <td>0.549</td>\n",
       "      <td>0.2</td>\n",
       "      <td>NaN</td>\n",
       "      <td>418.566</td>\n",
       "      <td>5</td>\n",
       "      <td>1</td>\n",
       "      <td>7</td>\n",
       "      <td>4.634</td>\n",
       "      <td>72.83</td>\n",
       "    </tr>\n",
       "    <tr>\n",
       "      <th>3387</th>\n",
       "      <td>TRAIN_3387</td>\n",
       "      <td>COc1cc2c(cc1OC)/C(=N\\c1ccccc1)N(Cc1ccccc1F)CC2</td>\n",
       "      <td>0.240</td>\n",
       "      <td>3.2</td>\n",
       "      <td>NaN</td>\n",
       "      <td>390.450</td>\n",
       "      <td>3</td>\n",
       "      <td>0</td>\n",
       "      <td>5</td>\n",
       "      <td>4.911</td>\n",
       "      <td>34.06</td>\n",
       "    </tr>\n",
       "  </tbody>\n",
       "</table>\n",
       "</div>"
      ],
      "text/plain": [
       "              id                                             SMILES    MLM  \\\n",
       "2796  TRAIN_2796  [H][C@]1(CC[C@@]2([H])[C@@H](C)C=CC3=C[C@H](C)...  0.549   \n",
       "3387  TRAIN_3387     COc1cc2c(cc1OC)/C(=N\\c1ccccc1)N(Cc1ccccc1F)CC2  0.240   \n",
       "\n",
       "      HLM  AlogP  Molecular_Weight  Num_H_Acceptors  Num_H_Donors  \\\n",
       "2796  0.2    NaN           418.566                5             1   \n",
       "3387  3.2    NaN           390.450                3             0   \n",
       "\n",
       "      Num_RotatableBonds   LogD  Molecular_PolarSurfaceArea  \n",
       "2796                   7  4.634                       72.83  \n",
       "3387                   5  4.911                       34.06  "
      ]
     },
     "execution_count": 5,
     "metadata": {},
     "output_type": "execute_result"
    }
   ],
   "source": [
    "train_data[train_data.isnull().any(axis=1)]"
   ]
  },
  {
   "cell_type": "code",
   "execution_count": 6,
   "id": "98eb4ecb-fba0-4e47-bcca-2a1c53f6675d",
   "metadata": {},
   "outputs": [],
   "source": [
    "# 모델 학습\n",
    "rf_regressor.fit(X_no_missing, y_no_missing)\n",
    "linear_regressor.fit(X_no_missing, y_no_missing)\n",
    "\n",
    "# 결측치 있는 데이터 선택\n",
    "data_missing = train_data[train_data['AlogP'].isnull()]\n",
    "X_missing = data_missing.drop(columns=['id', 'SMILES', 'MLM', 'HLM', 'AlogP'])\n",
    "\n",
    "# 결측치 예측\n",
    "predicted_AlogP_rf = rf_regressor.predict(X_missing)\n",
    "predicted_AlogP_linear = linear_regressor.predict(X_missing)\n",
    "\n",
    "# 예측된 값을 원래 데이터의 결측치 부분에 대체\n",
    "train_data_rf_filled = train_data.copy()\n",
    "train_data_rf_filled.loc[train_data['AlogP'].isnull(), 'AlogP'] = predicted_AlogP_rf\n",
    "\n",
    "train_data_linear_filled = train_data.copy()\n",
    "train_data_linear_filled.loc[train_data['AlogP'].isnull(), 'AlogP'] = predicted_AlogP_linear"
   ]
  },
  {
   "cell_type": "code",
   "execution_count": 7,
   "id": "117d6529-ac2e-44aa-bcbc-a309c1c61451",
   "metadata": {},
   "outputs": [
    {
     "data": {
      "text/plain": [
       "array([4.63343, 4.7763 ])"
      ]
     },
     "execution_count": 7,
     "metadata": {},
     "output_type": "execute_result"
    }
   ],
   "source": [
    "predicted_AlogP_rf"
   ]
  },
  {
   "cell_type": "code",
   "execution_count": 9,
   "id": "fccb8c51-cbf7-4f92-8785-374796d2a662",
   "metadata": {},
   "outputs": [],
   "source": [
    "train_data_rf_filled.to_csv('train_rf.csv', index=False)\n",
    "train_data_linear_filled.to_csv('train_linear.csv', index=False)"
   ]
  },
  {
   "cell_type": "code",
   "execution_count": 10,
   "id": "454f4612-ca56-48e9-8103-1cc9d9b08651",
   "metadata": {},
   "outputs": [
    {
     "data": {
      "text/plain": [
       "(         id                                             SMILES  AlogP  \\\n",
       " 0  TEST_000            CC(C)Nc1ccnc(N2CCN(Cc3cccs3)C(CCO)C2)n1  2.641   \n",
       " 1  TEST_001     COc1cc(=O)n(-c2ccccc2)cc1C(=O)N1CCC2(CC1)OCCO2  0.585   \n",
       " 2  TEST_002  Cc1cccc(NC(=N)/N=c2\\nc(O)c(Cc3ccccc3)c(C)[nH]2)c1  4.276   \n",
       " 3  TEST_003         O=C(c1nc2ncccn2n1)N1CCCn2cc(-c3ccccc3)nc21  1.795   \n",
       " 4  TEST_004       CCN1CCN(C(=O)c2cc3c(=O)n4cc(C)ccc4nc3n2C)CC1  1.219   \n",
       " \n",
       "    Molecular_Weight  Num_H_Acceptors  Num_H_Donors  Num_RotatableBonds   LogD  \\\n",
       " 0           361.505                4             2                   7  2.635   \n",
       " 1           370.399                5             0                   3  0.585   \n",
       " 2           347.414                4             4                   5  4.290   \n",
       " 3           345.358                5             0                   2  1.795   \n",
       " 4           353.418                4             0                   2  0.169   \n",
       " \n",
       "    Molecular_PolarSurfaceArea  \n",
       " 0                       92.76  \n",
       " 1                       68.31  \n",
       " 2                       92.86  \n",
       " 3                       81.21  \n",
       " 4                       61.15  ,\n",
       "          id                                             SMILES  AlogP  \\\n",
       " 0  TEST_000            CC(C)Nc1ccnc(N2CCN(Cc3cccs3)C(CCO)C2)n1  2.641   \n",
       " 1  TEST_001     COc1cc(=O)n(-c2ccccc2)cc1C(=O)N1CCC2(CC1)OCCO2  0.585   \n",
       " 2  TEST_002  Cc1cccc(NC(=N)/N=c2\\nc(O)c(Cc3ccccc3)c(C)[nH]2)c1  4.276   \n",
       " 3  TEST_003         O=C(c1nc2ncccn2n1)N1CCCn2cc(-c3ccccc3)nc21  1.795   \n",
       " 4  TEST_004       CCN1CCN(C(=O)c2cc3c(=O)n4cc(C)ccc4nc3n2C)CC1  1.219   \n",
       " \n",
       "    Molecular_Weight  Num_H_Acceptors  Num_H_Donors  Num_RotatableBonds   LogD  \\\n",
       " 0           361.505                4             2                   7  2.635   \n",
       " 1           370.399                5             0                   3  0.585   \n",
       " 2           347.414                4             4                   5  4.290   \n",
       " 3           345.358                5             0                   2  1.795   \n",
       " 4           353.418                4             0                   2  0.169   \n",
       " \n",
       "    Molecular_PolarSurfaceArea  \n",
       " 0                       92.76  \n",
       " 1                       68.31  \n",
       " 2                       92.86  \n",
       " 3                       81.21  \n",
       " 4                       61.15  )"
      ]
     },
     "execution_count": 10,
     "metadata": {},
     "output_type": "execute_result"
    }
   ],
   "source": [
    "# test_data 로드\n",
    "test_data = pd.read_csv('test.csv')\n",
    "\n",
    "# 결측치 있는 데이터 선택\n",
    "test_data_missing = test_data[test_data['AlogP'].isnull()]\n",
    "X_test_missing = test_data_missing.drop(columns=['id', 'SMILES', 'AlogP'])\n",
    "\n",
    "# 결측치 예측\n",
    "predicted_AlogP_test_rf = rf_regressor.predict(X_test_missing)\n",
    "predicted_AlogP_test_linear = linear_regressor.predict(X_test_missing)\n",
    "\n",
    "# 예측된 값을 원래 데이터의 결측치 부분에 대체\n",
    "test_data_rf_filled = test_data.copy()\n",
    "test_data_rf_filled.loc[test_data['AlogP'].isnull(), 'AlogP'] = predicted_AlogP_test_rf\n",
    "\n",
    "test_data_linear_filled = test_data.copy()\n",
    "test_data_linear_filled.loc[test_data['AlogP'].isnull(), 'AlogP'] = predicted_AlogP_test_linear\n",
    "\n",
    "test_data_rf_filled.head(), test_data_linear_filled.head()"
   ]
  },
  {
   "cell_type": "code",
   "execution_count": 11,
   "id": "84b940af-d51c-4a27-93a3-e6743a1bc45e",
   "metadata": {},
   "outputs": [],
   "source": [
    "test_data_rf_filled.to_csv('test_rf.csv', index=False)\n",
    "test_data_linear_filled.to_csv('test_linear.csv', index=False)"
   ]
  },
  {
   "cell_type": "code",
   "execution_count": null,
   "id": "02fb9323-2ee4-4eb1-906e-47f2a1056001",
   "metadata": {},
   "outputs": [],
   "source": []
  }
 ],
 "metadata": {
  "kernelspec": {
   "display_name": "Python 3.9 (tensorflow)",
   "language": "python",
   "name": "tensorflow"
  },
  "language_info": {
   "codemirror_mode": {
    "name": "ipython",
    "version": 3
   },
   "file_extension": ".py",
   "mimetype": "text/x-python",
   "name": "python",
   "nbconvert_exporter": "python",
   "pygments_lexer": "ipython3",
   "version": "3.9.16"
  }
 },
 "nbformat": 4,
 "nbformat_minor": 5
}
