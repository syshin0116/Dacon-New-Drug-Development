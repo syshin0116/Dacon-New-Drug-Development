{
 "cells": [
  {
   "cell_type": "code",
   "execution_count": 2,
   "id": "c665b206-63eb-45ec-9dc9-44325245bc99",
   "metadata": {},
   "outputs": [],
   "source": [
    "from pycaret.regression import *\n",
    "import pandas as pd\n",
    "\n",
    "# 1. 데이터 불러오기\n",
    "train_data = pd.read_csv('train_mol2vec.csv')\n",
    "test_data = pd.read_csv('test_mol2vec.csv')"
   ]
  },
  {
   "cell_type": "code",
   "execution_count": null,
   "id": "719725fb-84d9-4ecb-b028-0500169618b1",
   "metadata": {},
   "outputs": [],
   "source": [
    "# 2. HLM을 위한 환경 설정\n",
    "setup_data_HLM = setup(data = train_data, \n",
    "                       target = 'HLM', \n",
    "                       # text_features = ['SMILES'], \n",
    "                       ignore_features = ['id', 'MLM'],\n",
    "                       session_id = 123,\n",
    "                       pca = True, pca_components = 30,\n",
    "                       normalize = True,\n",
    "                       feature_selection = True,\n",
    "                       use_gpu = True,\n",
    "                       verbose = True\n",
    "                      )"
   ]
  },
  {
   "cell_type": "code",
   "execution_count": null,
   "id": "c480990a-0ba8-46db-ab05-47f87beb3d02",
   "metadata": {},
   "outputs": [],
   "source": [
    "# 3. 여러 모델 학습 및 비교\n",
    "best_HLM = compare_models(n_select=3, sort='RMSE')"
   ]
  },
  {
   "cell_type": "code",
   "execution_count": null,
   "id": "7506c2ec-88ea-4f20-be08-b0db21e4af71",
   "metadata": {},
   "outputs": [],
   "source": [
    "tuned_HLM = [tune_model(model, optimize='RMSE', n_iter=100) for model in best_HLM]"
   ]
  },
  {
   "cell_type": "code",
   "execution_count": null,
   "id": "c92079bf-16eb-4fa3-8748-0b5209cc32e9",
   "metadata": {},
   "outputs": [],
   "source": []
  },
  {
   "cell_type": "code",
   "execution_count": null,
   "id": "c5bc2f13-f6df-4e96-b092-4f5ab4dd6b3b",
   "metadata": {},
   "outputs": [],
   "source": [
    "# 4. 모델 블렌딩\n",
    "blended_HLM = blend_models(estimator_list = best_HLM)"
   ]
  },
  {
   "cell_type": "code",
   "execution_count": null,
   "id": "1fef539f-11d0-47f0-a1cd-4e14f18d8c24",
   "metadata": {},
   "outputs": [],
   "source": [
    "# 5. test 데이터를 사용하여 HLM 값 예측\n",
    "predictions_HLM = predict_model(blended_HLM, data = test_data)"
   ]
  },
  {
   "cell_type": "code",
   "execution_count": null,
   "id": "3e08e5d9-dc22-4c98-a2e0-cfac96e4eb22",
   "metadata": {},
   "outputs": [],
   "source": [
    "# 6. 예측된 HLM 값을 feature로 추가\n",
    "train_data['HLM_predicted'] = predict_model(blended_HLM, data=train_data)['prediction_label']\n",
    "test_data['HLM'] = predictions_HLM['prediction_label']"
   ]
  },
  {
   "cell_type": "code",
   "execution_count": null,
   "id": "abd56fd4-9abd-431a-a818-ef631eb1f40a",
   "metadata": {},
   "outputs": [],
   "source": [
    "# 7. MLM을 위한 환경 설정\n",
    "setup_data_MLM = setup(data = train_data, \n",
    "                       target = 'MLM', \n",
    "                       text_features = ['SMILES'], \n",
    "                       ignore_features = ['id'],\n",
    "                       session_id = 123,\n",
    "                       # use_gpu = True,\n",
    "                       pca = True, pca_components = 30,\n",
    "                       normalize = True,\n",
    "                       feature_selection = True,\n",
    "                       verbose = True\n",
    "                      )"
   ]
  },
  {
   "cell_type": "code",
   "execution_count": null,
   "id": "0bcb4bfe-caa8-4c0c-b820-11252f1dec78",
   "metadata": {},
   "outputs": [],
   "source": [
    "# 8. 여러 모델 학습 및 비교\n",
    "best_MLM = compare_models(n_select=3)"
   ]
  },
  {
   "cell_type": "code",
   "execution_count": null,
   "id": "54d93b2c-2d36-4737-bf15-d2c8a8db1eeb",
   "metadata": {},
   "outputs": [],
   "source": [
    "tuned_MLM = [tune_model(model, optimize='RMSE', n_iter=50) for model in best_MLM]"
   ]
  },
  {
   "cell_type": "code",
   "execution_count": null,
   "id": "a0b28cc6-5ba4-4db8-98b0-bbcb2006c386",
   "metadata": {},
   "outputs": [],
   "source": [
    "# 9. 모델 블렌딩\n",
    "blended_MLM = blend_models(estimator_list = best_MLM)"
   ]
  },
  {
   "cell_type": "code",
   "execution_count": null,
   "id": "3ea30644-6c68-477e-ad62-64bb64b612a1",
   "metadata": {},
   "outputs": [],
   "source": [
    "test_data['HLM'] = predictions_HLM['prediction_label']"
   ]
  },
  {
   "cell_type": "code",
   "execution_count": null,
   "id": "f07cdbfb-f929-4b42-bab5-7da23c8d577d",
   "metadata": {},
   "outputs": [],
   "source": [
    "# 10. test 데이터를 사용하여 MLM 값 예측\n",
    "predictions_MLM = predict_model(blended_MLM, data = test_data)"
   ]
  },
  {
   "cell_type": "code",
   "execution_count": null,
   "id": "86d6861d-6502-4071-8405-709b5a090871",
   "metadata": {},
   "outputs": [],
   "source": [
    "# 11. 최종 예측값을 CSV로 저장\n",
    "submission = test_data[['id']]\n",
    "submission['MLM'] = predictions_MLM['prediction_label']\n",
    "submission['HLM'] = predictions_HLM['prediction_label']\n",
    "submission.to_csv('submission_mol2vec.csv', index=False)"
   ]
  },
  {
   "cell_type": "code",
   "execution_count": null,
   "id": "62f101fc-7ef7-4afd-b4fd-82762e883266",
   "metadata": {},
   "outputs": [],
   "source": []
  }
 ],
 "metadata": {
  "kernelspec": {
   "display_name": "Python 3.9 (tensorflow)",
   "language": "python",
   "name": "tensorflow"
  },
  "language_info": {
   "codemirror_mode": {
    "name": "ipython",
    "version": 3
   },
   "file_extension": ".py",
   "mimetype": "text/x-python",
   "name": "python",
   "nbconvert_exporter": "python",
   "pygments_lexer": "ipython3",
   "version": "3.9.16"
  }
 },
 "nbformat": 4,
 "nbformat_minor": 5
}
