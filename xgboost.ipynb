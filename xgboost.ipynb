{
 "cells": [
  {
   "cell_type": "code",
   "execution_count": 1,
   "id": "5d17ff4f-8197-42e6-bfa4-ed47ba90a298",
   "metadata": {},
   "outputs": [
    {
     "name": "stderr",
     "output_type": "stream",
     "text": [
      "/Users/syshin/miniforge3/envs/tensorflow/lib/python3.9/site-packages/sklearn/utils/validation.py:767: FutureWarning: is_sparse is deprecated and will be removed in a future version. Check `isinstance(dtype, pd.SparseDtype)` instead.\n",
      "  if not hasattr(array, \"sparse\") and array.dtypes.apply(is_sparse).any():\n",
      "/Users/syshin/miniforge3/envs/tensorflow/lib/python3.9/site-packages/sklearn/utils/validation.py:605: FutureWarning: is_sparse is deprecated and will be removed in a future version. Check `isinstance(dtype, pd.SparseDtype)` instead.\n",
      "  if is_sparse(pd_dtype):\n",
      "/Users/syshin/miniforge3/envs/tensorflow/lib/python3.9/site-packages/sklearn/utils/validation.py:614: FutureWarning: is_sparse is deprecated and will be removed in a future version. Check `isinstance(dtype, pd.SparseDtype)` instead.\n",
      "  if is_sparse(pd_dtype) or not is_extension_array_dtype(pd_dtype):\n",
      "/Users/syshin/miniforge3/envs/tensorflow/lib/python3.9/site-packages/sklearn/utils/validation.py:767: FutureWarning: is_sparse is deprecated and will be removed in a future version. Check `isinstance(dtype, pd.SparseDtype)` instead.\n",
      "  if not hasattr(array, \"sparse\") and array.dtypes.apply(is_sparse).any():\n",
      "/Users/syshin/miniforge3/envs/tensorflow/lib/python3.9/site-packages/sklearn/utils/validation.py:605: FutureWarning: is_sparse is deprecated and will be removed in a future version. Check `isinstance(dtype, pd.SparseDtype)` instead.\n",
      "  if is_sparse(pd_dtype):\n",
      "/Users/syshin/miniforge3/envs/tensorflow/lib/python3.9/site-packages/sklearn/utils/validation.py:614: FutureWarning: is_sparse is deprecated and will be removed in a future version. Check `isinstance(dtype, pd.SparseDtype)` instead.\n",
      "  if is_sparse(pd_dtype) or not is_extension_array_dtype(pd_dtype):\n"
     ]
    },
    {
     "name": "stdout",
     "output_type": "stream",
     "text": [
      "Validation RMSE for MLM: 33.2297\n",
      "Validation RMSE for HLM: 35.7234\n"
     ]
    }
   ],
   "source": [
    "import pandas as pd\n",
    "import numpy as np\n",
    "from rdkit import Chem\n",
    "from rdkit.Chem import AllChem\n",
    "from sklearn.model_selection import train_test_split\n",
    "from sklearn.preprocessing import StandardScaler\n",
    "from sklearn.metrics import mean_squared_error\n",
    "import xgboost as xgb\n",
    "\n",
    "# Load data\n",
    "train_data = pd.read_csv('./submissions/train_linear.csv')\n",
    "\n",
    "# Extract SMILES strings and convert to molecular graphs\n",
    "def smiles_to_graph(smiles_list):\n",
    "    graph_representations = [AllChem.GetMorganFingerprintAsBitVect(Chem.MolFromSmiles(smiles), 2, nBits=1024) for smiles in smiles_list]\n",
    "    return np.array(graph_representations)\n",
    "\n",
    "train_graph_representations = smiles_to_graph(train_data[\"SMILES\"])\n",
    "feature_columns = train_data.columns.difference([\"id\", \"SMILES\", \"MLM\", \"HLM\"])\n",
    "\n",
    "# Normalize other features from the dataset\n",
    "scaler = StandardScaler().fit(train_data[feature_columns])\n",
    "normalized_features = scaler.transform(train_data[feature_columns])\n",
    "\n",
    "# Combine molecular representations and normalized features\n",
    "combined_train_features = np.hstack([train_graph_representations, normalized_features])\n",
    "\n",
    "# Split data into training and validation sets\n",
    "train_features, val_features, train_labels, val_labels = train_test_split(combined_train_features, train_data[['MLM', 'HLM']].values, test_size=0.1, random_state=42)\n",
    "\n",
    "# Separate features and targets for training data\n",
    "X_train = train_features\n",
    "y_train_mlm = train_labels[:, 0]\n",
    "y_train_hlm = train_labels[:, 1]\n",
    "\n",
    "# Separate features and targets for validation data\n",
    "X_val = val_features\n",
    "y_val_mlm = val_labels[:, 0]\n",
    "y_val_hlm = val_labels[:, 1]\n",
    "\n",
    "# Set up and train the model for MLM\n",
    "model_mlm = xgb.XGBRegressor(objective ='reg:squarederror')  # default hyperparameters\n",
    "model_mlm.fit(X_train, y_train_mlm)\n",
    "\n",
    "# Predict on validation data for MLM\n",
    "val_predictions_mlm = model_mlm.predict(X_val)\n",
    "rmse_mlm = np.sqrt(mean_squared_error(y_val_mlm, val_predictions_mlm))\n",
    "print(f\"Validation RMSE for MLM: {rmse_mlm:.4f}\")\n",
    "\n",
    "# Set up and train the model for HLM\n",
    "model_hlm = xgb.XGBRegressor(objective ='reg:squarederror')  # default hyperparameters\n",
    "model_hlm.fit(X_train, y_train_hlm)\n",
    "\n",
    "# Predict on validation data for HLM\n",
    "val_predictions_hlm = model_hlm.predict(X_val)\n",
    "rmse_hlm = np.sqrt(mean_squared_error(y_val_hlm, val_predictions_hlm))\n",
    "print(f\"Validation RMSE for HLM: {rmse_hlm:.4f}\")"
   ]
  },
  {
   "cell_type": "code",
   "execution_count": null,
   "id": "07f7b09e-d455-4d94-bd64-21d112007e1f",
   "metadata": {},
   "outputs": [],
   "source": [
    "# Load test data, featurize, and make predictions\n",
    "test_data = pd.read_csv('./submissions/test_linear.csv')\n",
    "test_graph_representations = smiles_to_graph(test_data[\"SMILES\"])\n",
    "normalized_test_features = scaler.transform(test_data[feature_columns])\n",
    "combined_test_features = np.hstack([test_graph_representations, normalized_test_features])\n",
    "\n",
    "# Predict on test data\n",
    "test_predictions_mlm = model_mlm.predict(combined_test_features)\n",
    "test_predictions_hlm = model_hlm.predict(combined_test_features)\n",
    "\n",
    "submission = pd.DataFrame({\n",
    "    \"id\": test_data[\"id\"],\n",
    "    \"MLM\": test_predictions_mlm,\n",
    "    \"HLM\": test_predictions_hlm\n",
    "})\n",
    "submission.to_csv(\"submission_xgboost.csv\", index=False)\n",
    "print(\"Submission file created!\")"
   ]
  }
 ],
 "metadata": {
  "kernelspec": {
   "display_name": "Python 3.9 (tensorflow)",
   "language": "python",
   "name": "tensorflow"
  },
  "language_info": {
   "codemirror_mode": {
    "name": "ipython",
    "version": 3
   },
   "file_extension": ".py",
   "mimetype": "text/x-python",
   "name": "python",
   "nbconvert_exporter": "python",
   "pygments_lexer": "ipython3",
   "version": "3.9.16"
  }
 },
 "nbformat": 4,
 "nbformat_minor": 5
}
